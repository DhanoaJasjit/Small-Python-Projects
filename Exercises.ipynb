{
 "cells": [
  {
   "cell_type": "markdown",
   "id": "2823677d-22d3-4dca-93d0-5621a33356ec",
   "metadata": {},
   "source": [
    "Exercise for LIST\n",
    "- Reverse the element in list\n",
    "- Add elements of one list to end of another list\n",
    "- Sort a list of string in Alphabtical order\n",
    "- Sort a list of numbers in decereasing order"
   ]
  },
  {
   "cell_type": "markdown",
   "id": "1bcc09c6-8595-4a8a-93b5-a817d2ec1718",
   "metadata": {},
   "source": [
    "Q1. Reverse the elements in list?"
   ]
  },
  {
   "cell_type": "code",
   "execution_count": 8,
   "id": "16b93afa-4c0c-4743-ba2a-d1033213ab8e",
   "metadata": {
    "tags": []
   },
   "outputs": [
    {
     "data": {
      "text/plain": [
       "['mango', 'cherry', 'banana']"
      ]
     },
     "execution_count": 8,
     "metadata": {},
     "output_type": "execute_result"
    }
   ],
   "source": [
    "fruits = ['banana','cherry','mango']\n",
    "\n",
    "fruits.reverse()\n",
    "\n",
    "fruits"
   ]
  },
  {
   "cell_type": "markdown",
   "id": "2384d8c0-89e5-476e-9491-7bb19e2af759",
   "metadata": {},
   "source": [
    "Q2. Add elements of one list to end of another list\n"
   ]
  },
  {
   "cell_type": "code",
   "execution_count": 13,
   "id": "4f1d30c5-ee8d-4eec-827f-47e546c18235",
   "metadata": {
    "tags": []
   },
   "outputs": [
    {
     "data": {
      "text/plain": [
       "['kiwi', 'pears', 'guava', 'mango', 'cherry', 'banana']"
      ]
     },
     "execution_count": 13,
     "metadata": {},
     "output_type": "execute_result"
    }
   ],
   "source": [
    "some_fruits=['kiwi','pears','guava']\n",
    "more_fruits=some_fruits+fruits\n",
    "more_fruits"
   ]
  },
  {
   "cell_type": "markdown",
   "id": "e0bec8f9-b039-41bc-9095-912e80206295",
   "metadata": {},
   "source": [
    "Q3. Sort a list of string in Alphabtical order?"
   ]
  },
  {
   "cell_type": "code",
   "execution_count": 16,
   "id": "9773ea36-2f06-454b-a01b-a15255072102",
   "metadata": {},
   "outputs": [
    {
     "data": {
      "text/plain": [
       "['banana', 'cherry', 'guava', 'kiwi', 'mango', 'pears']"
      ]
     },
     "execution_count": 16,
     "metadata": {},
     "output_type": "execute_result"
    }
   ],
   "source": [
    "more_fruits.sort()\n",
    "more_fruits"
   ]
  },
  {
   "cell_type": "markdown",
   "id": "ff4d8938-d827-4884-86bf-74205bf7464c",
   "metadata": {},
   "source": [
    "Q4. Sort a list of numbers in decereasing order?"
   ]
  },
  {
   "cell_type": "code",
   "execution_count": 20,
   "id": "d1ca14a3-9f5c-4434-8cfe-5228fdfa9fac",
   "metadata": {},
   "outputs": [
    {
     "data": {
      "text/plain": [
       "['88', '77', '55', '44', '33', '22']"
      ]
     },
     "execution_count": 20,
     "metadata": {},
     "output_type": "execute_result"
    }
   ],
   "source": [
    "num=[\"44\",\"77\",\"88\",\"22\",\"55\",\"33\"]\n",
    "num.sort(reverse = True)\n",
    "num"
   ]
  },
  {
   "cell_type": "markdown",
   "id": "b54af3b3-8930-4ee8-b42b-a783ae1cf8bd",
   "metadata": {},
   "source": [
    "Excercise for Dictionary\n",
    "- What happens if you use same keys mulyiple time while crating a dictionary?\n",
    "- How can you create a copy of dictionary (modifying thee copy shouldn't change the origional)?\n",
    "- Can value associated with a key itself be a dictionary?\n",
    "- How can you add key value pair from one dictionary to other? Hint: See Update method.\n",
    "- Can the keys of dictionary be something other thann string ?e.g. a number , boolean , list etc."
   ]
  },
  {
   "cell_type": "markdown",
   "id": "14a73c8b-863b-4309-be49-d93137a01d7e",
   "metadata": {},
   "source": [
    "Q1. What happens if you use same keys mulyiple time while crating a dictionary?"
   ]
  },
  {
   "cell_type": "markdown",
   "id": "94d17a1d-2c7f-4d42-9f85-cfe4dd72e796",
   "metadata": {},
   "source": [
    "it overrides the old key and put a new value to it as keys in dictionary are unique"
   ]
  },
  {
   "cell_type": "markdown",
   "id": "16877e24-c475-4ad5-a123-48c671ab88d6",
   "metadata": {},
   "source": [
    "Q3. How can you create a copy of dictionary (modifying the copy shouldn't change the origional)?\n"
   ]
  },
  {
   "cell_type": "code",
   "execution_count": 11,
   "id": "de667e9f-2a1d-46e8-8d8e-826a78a3f3c1",
   "metadata": {},
   "outputs": [
    {
     "ename": "SyntaxError",
     "evalue": "invalid syntax (117298592.py, line 1)",
     "output_type": "error",
     "traceback": [
      "\u001b[1;36m  File \u001b[1;32m\"C:\\Users\\jasji\\AppData\\Local\\Temp\\ipykernel_15212\\117298592.py\"\u001b[1;36m, line \u001b[1;32m1\u001b[0m\n\u001b[1;33m    git init\u001b[0m\n\u001b[1;37m        ^\u001b[0m\n\u001b[1;31mSyntaxError\u001b[0m\u001b[1;31m:\u001b[0m invalid syntax\n"
     ]
    }
   ],
   "source": [
    "git init\n",
    "git commit -m \"Exercises\"\n",
    "git branch -M main\n",
    "git remote add origin git@github.com:DhanoaJasjit/Small-Python-Projects.git\n",
    "git push -u origin main"
   ]
  },
  {
   "cell_type": "code",
   "execution_count": null,
   "id": "539407dc-f9a9-4bae-8d03-6a2e6d6062f6",
   "metadata": {},
   "outputs": [],
   "source": []
  }
 ],
 "metadata": {
  "kernelspec": {
   "display_name": "Python 3 (ipykernel)",
   "language": "python",
   "name": "python3"
  },
  "language_info": {
   "codemirror_mode": {
    "name": "ipython",
    "version": 3
   },
   "file_extension": ".py",
   "mimetype": "text/x-python",
   "name": "python",
   "nbconvert_exporter": "python",
   "pygments_lexer": "ipython3",
   "version": "3.9.13"
  }
 },
 "nbformat": 4,
 "nbformat_minor": 5
}
